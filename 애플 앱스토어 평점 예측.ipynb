{
 "cells": [
  {
   "cell_type": "markdown",
   "metadata": {},
   "source": [
    "# 애플 앱스토어 평점 예측"
   ]
  },
  {
   "cell_type": "markdown",
   "metadata": {},
   "source": [
    "- Kaggle에 있는 Apple AppStore 데이터를 이용하여 데이터 결측치 처리 및 변수 변환 등 데이터를 전처리한 뒤 평점 예측 모델을 만든다. \n",
    "\n",
    "- Machine learning에서 필요한 scikit-learn(사이킷런) 라이브러리를 바탕으로 로지스틱 회귀모형, KNN, decision tree, random forest를 이용해 모델을 수립하였다.  \n",
    "- 모델 수립 후, K-fold 교차 검증을 활용하여 정확도의 평균을 구하고, 가장 정확도가 높은 모델을 대표 모델로 선정한 뒤 실제로 예측한다."
   ]
  },
  {
   "cell_type": "markdown",
   "metadata": {},
   "source": [
    "### 데이터 전처리"
   ]
  },
  {
   "cell_type": "code",
   "execution_count": 1,
   "metadata": {},
   "outputs": [],
   "source": [
    "# csv 에서 데이터를 읽어와 행렬 객체로 만들 수 있는 모듈\n",
    "# 다양한 데이터 전처리\n",
    "import pandas as pd\n",
    "# Numpy는 과학 연산을 위한 라이브러리\n",
    "# 다차원 배열과 이런 배열을 처리\n",
    "import numpy as np\n",
    "# 시각화 라이브러리\n",
    "import matplotlib.pyplot as plt"
   ]
  },
  {
   "cell_type": "code",
   "execution_count": 2,
   "metadata": {},
   "outputs": [],
   "source": [
    "# 데이터를 읽어온다\n",
    "modeldata = pd.read_csv('AppleStore.csv')"
   ]
  },
  {
   "cell_type": "code",
   "execution_count": 3,
   "metadata": {
    "scrolled": true
   },
   "outputs": [
    {
     "name": "stdout",
     "output_type": "stream",
     "text": [
      "<class 'pandas.core.frame.DataFrame'>\n",
      "RangeIndex: 7197 entries, 0 to 7196\n",
      "Data columns (total 17 columns):\n",
      "Unnamed: 0          7197 non-null int64\n",
      "id                  7197 non-null int64\n",
      "track_name          7197 non-null object\n",
      "size_bytes          7197 non-null int64\n",
      "currency            7197 non-null object\n",
      "price               7197 non-null float64\n",
      "rating_count_tot    7197 non-null int64\n",
      "rating_count_ver    7197 non-null int64\n",
      "user_rating         7197 non-null float64\n",
      "user_rating_ver     7197 non-null float64\n",
      "ver                 7197 non-null object\n",
      "cont_rating         7197 non-null object\n",
      "prime_genre         7197 non-null object\n",
      "sup_devices.num     7197 non-null int64\n",
      "ipadSc_urls.num     7197 non-null int64\n",
      "lang.num            7197 non-null int64\n",
      "vpp_lic             7197 non-null int64\n",
      "dtypes: float64(3), int64(9), object(5)\n",
      "memory usage: 955.9+ KB\n"
     ]
    }
   ],
   "source": [
    "# 데이터 정보 확인\n",
    "modeldata.info()"
   ]
  },
  {
   "cell_type": "code",
   "execution_count": 4,
   "metadata": {},
   "outputs": [],
   "source": [
    "# 필요없는 정보 drop\n",
    "drop_list= ['id','currency','rating_count_ver','user_rating_ver','ver','cont_rating','sup_devices.num','ipadSc_urls.num','lang.num','vpp_lic','size_bytes']\n",
    "modeldata = modeldata.drop(drop_list,axis=1)"
   ]
  },
  {
   "cell_type": "code",
   "execution_count": 5,
   "metadata": {},
   "outputs": [
    {
     "name": "stdout",
     "output_type": "stream",
     "text": [
      "{'Games': 0, 'Productivity': 1, 'Weather': 2, 'Shopping': 3, 'Reference': 4, 'Finance': 5, 'Music': 6, 'Utilities': 7, 'Travel': 8, 'Social Networking': 9, 'Sports': 10, 'Business': 11, 'Health & Fitness': 12, 'Entertainment': 13, 'Photo & Video': 14, 'Navigation': 15, 'Education': 16, 'Lifestyle': 17, 'Food & Drink': 18, 'News': 19, 'Book': 20, 'Medical': 21, 'Catalogs': 22}\n"
     ]
    }
   ],
   "source": [
    "# 장르는 group으로 만들기 위해 숫자로 바꾸어준다\n",
    "category_map = {}\n",
    "category_list = []\n",
    "i = 0\n",
    "for data in modeldata['prime_genre']:\n",
    "    if data not in category_map.keys():\n",
    "        category_list.append(data)\n",
    "        category_map[data] = i\n",
    "        i += 1\n",
    "        \n",
    "print(category_map)\n",
    "\n",
    "modeldata['prime_genre'] = modeldata['prime_genre'].map(category_map)"
   ]
  },
  {
   "cell_type": "code",
   "execution_count": 6,
   "metadata": {
    "scrolled": true
   },
   "outputs": [
    {
     "data": {
      "text/html": [
       "<div>\n",
       "<style scoped>\n",
       "    .dataframe tbody tr th:only-of-type {\n",
       "        vertical-align: middle;\n",
       "    }\n",
       "\n",
       "    .dataframe tbody tr th {\n",
       "        vertical-align: top;\n",
       "    }\n",
       "\n",
       "    .dataframe thead th {\n",
       "        text-align: right;\n",
       "    }\n",
       "</style>\n",
       "<table border=\"1\" class=\"dataframe\">\n",
       "  <thead>\n",
       "    <tr style=\"text-align: right;\">\n",
       "      <th></th>\n",
       "      <th>Unnamed: 0</th>\n",
       "      <th>track_name</th>\n",
       "      <th>price</th>\n",
       "      <th>rating_count_tot</th>\n",
       "      <th>user_rating</th>\n",
       "      <th>prime_genre</th>\n",
       "    </tr>\n",
       "  </thead>\n",
       "  <tbody>\n",
       "    <tr>\n",
       "      <th>0</th>\n",
       "      <td>1</td>\n",
       "      <td>PAC-MAN Premium</td>\n",
       "      <td>3.99</td>\n",
       "      <td>21292</td>\n",
       "      <td>4.0</td>\n",
       "      <td>0</td>\n",
       "    </tr>\n",
       "    <tr>\n",
       "      <th>1</th>\n",
       "      <td>2</td>\n",
       "      <td>Evernote - stay organized</td>\n",
       "      <td>0.00</td>\n",
       "      <td>161065</td>\n",
       "      <td>4.0</td>\n",
       "      <td>1</td>\n",
       "    </tr>\n",
       "    <tr>\n",
       "      <th>2</th>\n",
       "      <td>3</td>\n",
       "      <td>WeatherBug - Local Weather, Radar, Maps, Alerts</td>\n",
       "      <td>0.00</td>\n",
       "      <td>188583</td>\n",
       "      <td>3.5</td>\n",
       "      <td>2</td>\n",
       "    </tr>\n",
       "    <tr>\n",
       "      <th>3</th>\n",
       "      <td>4</td>\n",
       "      <td>eBay: Best App to Buy, Sell, Save! Online Shop...</td>\n",
       "      <td>0.00</td>\n",
       "      <td>262241</td>\n",
       "      <td>4.0</td>\n",
       "      <td>3</td>\n",
       "    </tr>\n",
       "    <tr>\n",
       "      <th>4</th>\n",
       "      <td>5</td>\n",
       "      <td>Bible</td>\n",
       "      <td>0.00</td>\n",
       "      <td>985920</td>\n",
       "      <td>4.5</td>\n",
       "      <td>4</td>\n",
       "    </tr>\n",
       "  </tbody>\n",
       "</table>\n",
       "</div>"
      ],
      "text/plain": [
       "   Unnamed: 0                                         track_name  price  \\\n",
       "0           1                                    PAC-MAN Premium   3.99   \n",
       "1           2                          Evernote - stay organized   0.00   \n",
       "2           3    WeatherBug - Local Weather, Radar, Maps, Alerts   0.00   \n",
       "3           4  eBay: Best App to Buy, Sell, Save! Online Shop...   0.00   \n",
       "4           5                                              Bible   0.00   \n",
       "\n",
       "   rating_count_tot  user_rating  prime_genre  \n",
       "0             21292          4.0            0  \n",
       "1            161065          4.0            1  \n",
       "2            188583          3.5            2  \n",
       "3            262241          4.0            3  \n",
       "4            985920          4.5            4  "
      ]
     },
     "execution_count": 6,
     "metadata": {},
     "output_type": "execute_result"
    }
   ],
   "source": [
    "# 장르가 숫자로 잘 변환 되었는지 확인\n",
    "modeldata.head(5) "
   ]
  },
  {
   "cell_type": "code",
   "execution_count": 7,
   "metadata": {},
   "outputs": [
    {
     "data": {
      "text/plain": [
       "Unnamed: 0          0\n",
       "track_name          0\n",
       "price               0\n",
       "rating_count_tot    0\n",
       "user_rating         0\n",
       "prime_genre         0\n",
       "dtype: int64"
      ]
     },
     "execution_count": 7,
     "metadata": {},
     "output_type": "execute_result"
    }
   ],
   "source": [
    "# 결측값 확인\n",
    "modeldata.isnull().sum()"
   ]
  },
  {
   "cell_type": "code",
   "execution_count": 8,
   "metadata": {},
   "outputs": [
    {
     "name": "stdout",
     "output_type": "stream",
     "text": [
      "<class 'pandas.core.frame.DataFrame'>\n",
      "RangeIndex: 7197 entries, 0 to 7196\n",
      "Data columns (total 6 columns):\n",
      "Unnamed: 0          7197 non-null int64\n",
      "track_name          7197 non-null object\n",
      "price               7197 non-null float64\n",
      "rating_count_tot    7197 non-null int64\n",
      "user_rating         7197 non-null float64\n",
      "prime_genre         7197 non-null int64\n",
      "dtypes: float64(2), int64(3), object(1)\n",
      "memory usage: 337.4+ KB\n"
     ]
    }
   ],
   "source": [
    "# 데이터 정보 확인\n",
    "modeldata.info()"
   ]
  },
  {
   "cell_type": "code",
   "execution_count": 9,
   "metadata": {},
   "outputs": [],
   "source": [
    "# 전처리된 데이터 저장\n",
    "modeldata.to_csv('apple_new_data.csv')"
   ]
  },
  {
   "cell_type": "markdown",
   "metadata": {},
   "source": [
    "### 예측 모델"
   ]
  },
  {
   "cell_type": "code",
   "execution_count": 10,
   "metadata": {},
   "outputs": [],
   "source": [
    "# csv 에서 데이터를 읽어와 행렬 객체로 만들 수 있는 모듈\n",
    "# 다양한 데이터 전처리\n",
    "import pandas as pd\n",
    "# 데이터를 학습용과 테스트용으로 나눌 수 있는 함수\n",
    "from sklearn.model_selection import train_test_split\n",
    "# 사용할 모델들\n",
    "from sklearn.linear_model import LogisticRegression\n",
    "from sklearn.neighbors import KNeighborsClassifier\n",
    "from sklearn.tree import DecisionTreeClassifier\n",
    "from sklearn.ensemble import RandomForestClassifier\n",
    "from sklearn.naive_bayes import GaussianNB\n",
    "from sklearn.svm import SVC\n",
    "from xgboost import XGBClassifier\n",
    "# KFold 교차 검증을 위한 모듈들\n",
    "from sklearn.model_selection import KFold\n",
    "from sklearn.model_selection import cross_val_score\n",
    "\n",
    "import numpy as np\n",
    "import collections"
   ]
  },
  {
   "cell_type": "markdown",
   "metadata": {},
   "source": [
    "##### 학습 데이터와 테스트 데이터를 7:3으로 나눈다"
   ]
  },
  {
   "cell_type": "code",
   "execution_count": 11,
   "metadata": {},
   "outputs": [],
   "source": [
    "train, test = train_test_split(modeldata, test_size=0.3)"
   ]
  },
  {
   "cell_type": "markdown",
   "metadata": {},
   "source": [
    "##### 결과 데이터 추출"
   ]
  },
  {
   "cell_type": "code",
   "execution_count": 12,
   "metadata": {},
   "outputs": [],
   "source": [
    "target = train['user_rating']\n",
    "target = target.astype(int)\n",
    "train = train.drop(['track_name','user_rating'], axis=1)"
   ]
  },
  {
   "cell_type": "markdown",
   "metadata": {},
   "source": [
    "##### 평점 예측 모델 선택하기"
   ]
  },
  {
   "cell_type": "code",
   "execution_count": 13,
   "metadata": {},
   "outputs": [
    {
     "name": "stderr",
     "output_type": "stream",
     "text": [
      "C:\\ProgramData\\Anaconda3\\lib\\site-packages\\sklearn\\linear_model\\logistic.py:433: FutureWarning: Default solver will be changed to 'lbfgs' in 0.22. Specify a solver to silence this warning.\n",
      "  FutureWarning)\n",
      "C:\\ProgramData\\Anaconda3\\lib\\site-packages\\sklearn\\linear_model\\logistic.py:460: FutureWarning: Default multi_class will be changed to 'auto' in 0.22. Specify the multi_class option to silence this warning.\n",
      "  \"this warning.\", FutureWarning)\n",
      "C:\\ProgramData\\Anaconda3\\lib\\site-packages\\sklearn\\linear_model\\logistic.py:433: FutureWarning: Default solver will be changed to 'lbfgs' in 0.22. Specify a solver to silence this warning.\n",
      "  FutureWarning)\n",
      "C:\\ProgramData\\Anaconda3\\lib\\site-packages\\sklearn\\linear_model\\logistic.py:460: FutureWarning: Default multi_class will be changed to 'auto' in 0.22. Specify the multi_class option to silence this warning.\n",
      "  \"this warning.\", FutureWarning)\n",
      "C:\\ProgramData\\Anaconda3\\lib\\site-packages\\sklearn\\linear_model\\logistic.py:433: FutureWarning: Default solver will be changed to 'lbfgs' in 0.22. Specify a solver to silence this warning.\n",
      "  FutureWarning)\n",
      "C:\\ProgramData\\Anaconda3\\lib\\site-packages\\sklearn\\linear_model\\logistic.py:460: FutureWarning: Default multi_class will be changed to 'auto' in 0.22. Specify the multi_class option to silence this warning.\n",
      "  \"this warning.\", FutureWarning)\n",
      "C:\\ProgramData\\Anaconda3\\lib\\site-packages\\sklearn\\linear_model\\logistic.py:433: FutureWarning: Default solver will be changed to 'lbfgs' in 0.22. Specify a solver to silence this warning.\n",
      "  FutureWarning)\n",
      "C:\\ProgramData\\Anaconda3\\lib\\site-packages\\sklearn\\linear_model\\logistic.py:460: FutureWarning: Default multi_class will be changed to 'auto' in 0.22. Specify the multi_class option to silence this warning.\n",
      "  \"this warning.\", FutureWarning)\n",
      "C:\\ProgramData\\Anaconda3\\lib\\site-packages\\sklearn\\linear_model\\logistic.py:433: FutureWarning: Default solver will be changed to 'lbfgs' in 0.22. Specify a solver to silence this warning.\n",
      "  FutureWarning)\n",
      "C:\\ProgramData\\Anaconda3\\lib\\site-packages\\sklearn\\linear_model\\logistic.py:460: FutureWarning: Default multi_class will be changed to 'auto' in 0.22. Specify the multi_class option to silence this warning.\n",
      "  \"this warning.\", FutureWarning)\n",
      "C:\\ProgramData\\Anaconda3\\lib\\site-packages\\sklearn\\linear_model\\logistic.py:433: FutureWarning: Default solver will be changed to 'lbfgs' in 0.22. Specify a solver to silence this warning.\n",
      "  FutureWarning)\n",
      "C:\\ProgramData\\Anaconda3\\lib\\site-packages\\sklearn\\linear_model\\logistic.py:460: FutureWarning: Default multi_class will be changed to 'auto' in 0.22. Specify the multi_class option to silence this warning.\n",
      "  \"this warning.\", FutureWarning)\n",
      "C:\\ProgramData\\Anaconda3\\lib\\site-packages\\sklearn\\linear_model\\logistic.py:433: FutureWarning: Default solver will be changed to 'lbfgs' in 0.22. Specify a solver to silence this warning.\n",
      "  FutureWarning)\n",
      "C:\\ProgramData\\Anaconda3\\lib\\site-packages\\sklearn\\linear_model\\logistic.py:460: FutureWarning: Default multi_class will be changed to 'auto' in 0.22. Specify the multi_class option to silence this warning.\n",
      "  \"this warning.\", FutureWarning)\n",
      "C:\\ProgramData\\Anaconda3\\lib\\site-packages\\sklearn\\linear_model\\logistic.py:433: FutureWarning: Default solver will be changed to 'lbfgs' in 0.22. Specify a solver to silence this warning.\n",
      "  FutureWarning)\n",
      "C:\\ProgramData\\Anaconda3\\lib\\site-packages\\sklearn\\linear_model\\logistic.py:460: FutureWarning: Default multi_class will be changed to 'auto' in 0.22. Specify the multi_class option to silence this warning.\n",
      "  \"this warning.\", FutureWarning)\n",
      "C:\\ProgramData\\Anaconda3\\lib\\site-packages\\sklearn\\linear_model\\logistic.py:433: FutureWarning: Default solver will be changed to 'lbfgs' in 0.22. Specify a solver to silence this warning.\n",
      "  FutureWarning)\n",
      "C:\\ProgramData\\Anaconda3\\lib\\site-packages\\sklearn\\linear_model\\logistic.py:460: FutureWarning: Default multi_class will be changed to 'auto' in 0.22. Specify the multi_class option to silence this warning.\n",
      "  \"this warning.\", FutureWarning)\n",
      "C:\\ProgramData\\Anaconda3\\lib\\site-packages\\sklearn\\linear_model\\logistic.py:433: FutureWarning: Default solver will be changed to 'lbfgs' in 0.22. Specify a solver to silence this warning.\n",
      "  FutureWarning)\n",
      "C:\\ProgramData\\Anaconda3\\lib\\site-packages\\sklearn\\linear_model\\logistic.py:460: FutureWarning: Default multi_class will be changed to 'auto' in 0.22. Specify the multi_class option to silence this warning.\n",
      "  \"this warning.\", FutureWarning)\n",
      "C:\\ProgramData\\Anaconda3\\lib\\site-packages\\sklearn\\svm\\base.py:196: FutureWarning: The default value of gamma will change from 'auto' to 'scale' in version 0.22 to account better for unscaled features. Set gamma explicitly to 'auto' or 'scale' to avoid this warning.\n",
      "  \"avoid this warning.\", FutureWarning)\n",
      "C:\\ProgramData\\Anaconda3\\lib\\site-packages\\sklearn\\svm\\base.py:196: FutureWarning: The default value of gamma will change from 'auto' to 'scale' in version 0.22 to account better for unscaled features. Set gamma explicitly to 'auto' or 'scale' to avoid this warning.\n",
      "  \"avoid this warning.\", FutureWarning)\n",
      "C:\\ProgramData\\Anaconda3\\lib\\site-packages\\sklearn\\svm\\base.py:196: FutureWarning: The default value of gamma will change from 'auto' to 'scale' in version 0.22 to account better for unscaled features. Set gamma explicitly to 'auto' or 'scale' to avoid this warning.\n",
      "  \"avoid this warning.\", FutureWarning)\n",
      "C:\\ProgramData\\Anaconda3\\lib\\site-packages\\sklearn\\svm\\base.py:196: FutureWarning: The default value of gamma will change from 'auto' to 'scale' in version 0.22 to account better for unscaled features. Set gamma explicitly to 'auto' or 'scale' to avoid this warning.\n",
      "  \"avoid this warning.\", FutureWarning)\n",
      "C:\\ProgramData\\Anaconda3\\lib\\site-packages\\sklearn\\svm\\base.py:196: FutureWarning: The default value of gamma will change from 'auto' to 'scale' in version 0.22 to account better for unscaled features. Set gamma explicitly to 'auto' or 'scale' to avoid this warning.\n",
      "  \"avoid this warning.\", FutureWarning)\n",
      "C:\\ProgramData\\Anaconda3\\lib\\site-packages\\sklearn\\svm\\base.py:196: FutureWarning: The default value of gamma will change from 'auto' to 'scale' in version 0.22 to account better for unscaled features. Set gamma explicitly to 'auto' or 'scale' to avoid this warning.\n",
      "  \"avoid this warning.\", FutureWarning)\n",
      "C:\\ProgramData\\Anaconda3\\lib\\site-packages\\sklearn\\svm\\base.py:196: FutureWarning: The default value of gamma will change from 'auto' to 'scale' in version 0.22 to account better for unscaled features. Set gamma explicitly to 'auto' or 'scale' to avoid this warning.\n",
      "  \"avoid this warning.\", FutureWarning)\n",
      "C:\\ProgramData\\Anaconda3\\lib\\site-packages\\sklearn\\svm\\base.py:196: FutureWarning: The default value of gamma will change from 'auto' to 'scale' in version 0.22 to account better for unscaled features. Set gamma explicitly to 'auto' or 'scale' to avoid this warning.\n",
      "  \"avoid this warning.\", FutureWarning)\n",
      "C:\\ProgramData\\Anaconda3\\lib\\site-packages\\sklearn\\svm\\base.py:196: FutureWarning: The default value of gamma will change from 'auto' to 'scale' in version 0.22 to account better for unscaled features. Set gamma explicitly to 'auto' or 'scale' to avoid this warning.\n",
      "  \"avoid this warning.\", FutureWarning)\n",
      "C:\\ProgramData\\Anaconda3\\lib\\site-packages\\sklearn\\svm\\base.py:196: FutureWarning: The default value of gamma will change from 'auto' to 'scale' in version 0.22 to account better for unscaled features. Set gamma explicitly to 'auto' or 'scale' to avoid this warning.\n",
      "  \"avoid this warning.\", FutureWarning)\n"
     ]
    },
    {
     "name": "stdout",
     "output_type": "stream",
     "text": [
      "정확도 평균:  71.85,64.11,61.88,68.73,40.88,59.72,72.86\n"
     ]
    }
   ],
   "source": [
    "# 모델 객체 생성\n",
    "model1 = LogisticRegression(C=1000.0, random_state=0)\n",
    "model2 = KNeighborsClassifier(n_neighbors = 15)\n",
    "model3 = DecisionTreeClassifier()\n",
    "model4 = RandomForestClassifier(n_estimators=15)\n",
    "model5 = GaussianNB()\n",
    "model6 = SVC(C=1, kernel='rbf', coef0=1)\n",
    "model7 = XGBClassifier()\n",
    "\n",
    "# Fold 생성\n",
    "folds = KFold(n_splits=10, shuffle=True, random_state=0)\n",
    "\n",
    "# 교차 검증한다 (rating)\n",
    "score1 = cross_val_score(model1, train, target, cv=folds, n_jobs=1, scoring='accuracy')\n",
    "score2 = cross_val_score(model2, train, target, cv=folds, n_jobs=1, scoring='accuracy')\n",
    "score3 = cross_val_score(model3, train, target, cv=folds, n_jobs=1, scoring='accuracy')\n",
    "score4 = cross_val_score(model4, train, target, cv=folds, n_jobs=1, scoring='accuracy')\n",
    "score5 = cross_val_score(model5, train, target, cv=folds, n_jobs=1, scoring='accuracy')\n",
    "score6 = cross_val_score(model6, train, target, cv=folds, n_jobs=1, scoring='accuracy')\n",
    "score7 = cross_val_score(model7, train, target, cv=folds, n_jobs=1, scoring='accuracy')\n",
    "\n",
    "# 각 모델별 정확도 평균을 구한다 (rating)\n",
    "avg1 = round(np.mean(score1) * 100, 2)\n",
    "avg2 = round(np.mean(score2) * 100, 2)\n",
    "avg3 = round(np.mean(score3) * 100, 2)\n",
    "avg4 = round(np.mean(score4) * 100, 2)\n",
    "avg5 = round(np.mean(score5) * 100, 2)\n",
    "avg6 = round(np.mean(score6) * 100, 2)\n",
    "avg7 = round(np.mean(score7) * 100, 2)\n",
    "\n",
    "print('정확도 평균: ', f'{avg1},{avg2},{avg3},{avg4},{avg5},{avg6},{avg7}')"
   ]
  },
  {
   "cell_type": "code",
   "execution_count": 14,
   "metadata": {},
   "outputs": [
    {
     "name": "stdout",
     "output_type": "stream",
     "text": [
      "학습완료\n"
     ]
    }
   ],
   "source": [
    "# 정확도 평균이 가장 높게 나온 modle7으로 학습\n",
    "model7.fit(train, target)\n",
    "print('학습완료')"
   ]
  },
  {
   "cell_type": "markdown",
   "metadata": {},
   "source": [
    "##### 예측모델 사용하기"
   ]
  },
  {
   "cell_type": "code",
   "execution_count": 15,
   "metadata": {},
   "outputs": [],
   "source": [
    "rating = test['user_rating']\n",
    "genre = test['prime_genre']\n",
    "test = test.drop(['track_name','user_rating'],axis=1)\n",
    "                  \n",
    "# 예측 결과 계산\n",
    "y_pred = model7.predict(test)"
   ]
  },
  {
   "cell_type": "code",
   "execution_count": 16,
   "metadata": {},
   "outputs": [],
   "source": [
    "# 평점 예측 결과를 DataFrame로 만든다\n",
    "rating_predictive_model = pd.DataFrame({'Category': genre, 'Rating':y_pred})"
   ]
  },
  {
   "cell_type": "code",
   "execution_count": 17,
   "metadata": {},
   "outputs": [],
   "source": [
    "# 카테고리로 group하여 예측한 평점의 평균을 반환\n",
    "rating_predictive_model = round(rating_predictive_model.groupby(['Category'], as_index=False).mean(),1)\n",
    "# 예측한 평점이 높은 순으로 정렬\n",
    "rating_predictive_model = rating_predictive_model.sort_values('Rating', ascending=False)"
   ]
  },
  {
   "cell_type": "code",
   "execution_count": 18,
   "metadata": {},
   "outputs": [
    {
     "data": {
      "text/html": [
       "<div>\n",
       "<style scoped>\n",
       "    .dataframe tbody tr th:only-of-type {\n",
       "        vertical-align: middle;\n",
       "    }\n",
       "\n",
       "    .dataframe tbody tr th {\n",
       "        vertical-align: top;\n",
       "    }\n",
       "\n",
       "    .dataframe thead th {\n",
       "        text-align: right;\n",
       "    }\n",
       "</style>\n",
       "<table border=\"1\" class=\"dataframe\">\n",
       "  <thead>\n",
       "    <tr style=\"text-align: right;\">\n",
       "      <th></th>\n",
       "      <th>Category</th>\n",
       "      <th>Rating</th>\n",
       "    </tr>\n",
       "  </thead>\n",
       "  <tbody>\n",
       "    <tr>\n",
       "      <th>22</th>\n",
       "      <td>Catalogs</td>\n",
       "      <td>4.0</td>\n",
       "    </tr>\n",
       "    <tr>\n",
       "      <th>21</th>\n",
       "      <td>Medical</td>\n",
       "      <td>4.0</td>\n",
       "    </tr>\n",
       "    <tr>\n",
       "      <th>11</th>\n",
       "      <td>Business</td>\n",
       "      <td>3.9</td>\n",
       "    </tr>\n",
       "    <tr>\n",
       "      <th>1</th>\n",
       "      <td>Productivity</td>\n",
       "      <td>3.8</td>\n",
       "    </tr>\n",
       "    <tr>\n",
       "      <th>2</th>\n",
       "      <td>Weather</td>\n",
       "      <td>3.8</td>\n",
       "    </tr>\n",
       "    <tr>\n",
       "      <th>6</th>\n",
       "      <td>Music</td>\n",
       "      <td>3.8</td>\n",
       "    </tr>\n",
       "    <tr>\n",
       "      <th>3</th>\n",
       "      <td>Shopping</td>\n",
       "      <td>3.7</td>\n",
       "    </tr>\n",
       "    <tr>\n",
       "      <th>14</th>\n",
       "      <td>Photo &amp; Video</td>\n",
       "      <td>3.7</td>\n",
       "    </tr>\n",
       "    <tr>\n",
       "      <th>7</th>\n",
       "      <td>Utilities</td>\n",
       "      <td>3.6</td>\n",
       "    </tr>\n",
       "    <tr>\n",
       "      <th>12</th>\n",
       "      <td>Health &amp; Fitness</td>\n",
       "      <td>3.5</td>\n",
       "    </tr>\n",
       "    <tr>\n",
       "      <th>0</th>\n",
       "      <td>Games</td>\n",
       "      <td>3.5</td>\n",
       "    </tr>\n",
       "    <tr>\n",
       "      <th>10</th>\n",
       "      <td>Sports</td>\n",
       "      <td>3.5</td>\n",
       "    </tr>\n",
       "    <tr>\n",
       "      <th>4</th>\n",
       "      <td>Reference</td>\n",
       "      <td>3.4</td>\n",
       "    </tr>\n",
       "    <tr>\n",
       "      <th>8</th>\n",
       "      <td>Travel</td>\n",
       "      <td>3.4</td>\n",
       "    </tr>\n",
       "    <tr>\n",
       "      <th>16</th>\n",
       "      <td>Education</td>\n",
       "      <td>3.4</td>\n",
       "    </tr>\n",
       "    <tr>\n",
       "      <th>17</th>\n",
       "      <td>Lifestyle</td>\n",
       "      <td>3.4</td>\n",
       "    </tr>\n",
       "    <tr>\n",
       "      <th>13</th>\n",
       "      <td>Entertainment</td>\n",
       "      <td>3.4</td>\n",
       "    </tr>\n",
       "    <tr>\n",
       "      <th>9</th>\n",
       "      <td>Social Networking</td>\n",
       "      <td>3.2</td>\n",
       "    </tr>\n",
       "    <tr>\n",
       "      <th>18</th>\n",
       "      <td>Food &amp; Drink</td>\n",
       "      <td>2.9</td>\n",
       "    </tr>\n",
       "    <tr>\n",
       "      <th>19</th>\n",
       "      <td>News</td>\n",
       "      <td>2.9</td>\n",
       "    </tr>\n",
       "    <tr>\n",
       "      <th>15</th>\n",
       "      <td>Navigation</td>\n",
       "      <td>2.6</td>\n",
       "    </tr>\n",
       "    <tr>\n",
       "      <th>5</th>\n",
       "      <td>Finance</td>\n",
       "      <td>2.5</td>\n",
       "    </tr>\n",
       "    <tr>\n",
       "      <th>20</th>\n",
       "      <td>Book</td>\n",
       "      <td>2.3</td>\n",
       "    </tr>\n",
       "  </tbody>\n",
       "</table>\n",
       "</div>"
      ],
      "text/plain": [
       "             Category  Rating\n",
       "22           Catalogs     4.0\n",
       "21            Medical     4.0\n",
       "11           Business     3.9\n",
       "1        Productivity     3.8\n",
       "2             Weather     3.8\n",
       "6               Music     3.8\n",
       "3            Shopping     3.7\n",
       "14      Photo & Video     3.7\n",
       "7           Utilities     3.6\n",
       "12   Health & Fitness     3.5\n",
       "0               Games     3.5\n",
       "10             Sports     3.5\n",
       "4           Reference     3.4\n",
       "8              Travel     3.4\n",
       "16          Education     3.4\n",
       "17          Lifestyle     3.4\n",
       "13      Entertainment     3.4\n",
       "9   Social Networking     3.2\n",
       "18       Food & Drink     2.9\n",
       "19               News     2.9\n",
       "15         Navigation     2.6\n",
       "5             Finance     2.5\n",
       "20               Book     2.3"
      ]
     },
     "execution_count": 18,
     "metadata": {},
     "output_type": "execute_result"
    }
   ],
   "source": [
    "# category_map의 key,value 값을 바꿈\n",
    "inverse_category_map = {v: k for k, v in category_map.items()}\n",
    "\n",
    "# 현재 카테고리가 숫자로 되어 있으므로 다시 문자로 변경\n",
    "rating_predictive_model['Category'] = rating_predictive_model['Category'].map(inverse_category_map)\n",
    "rating_predictive_model"
   ]
  },
  {
   "cell_type": "code",
   "execution_count": 19,
   "metadata": {},
   "outputs": [],
   "source": [
    "# 카테고리별 평점 예측 결과를 저장\n",
    "rating_predictive_model.to_csv('AppleStore_rating_predictive_model.csv')"
   ]
  },
  {
   "cell_type": "code",
   "execution_count": null,
   "metadata": {},
   "outputs": [],
   "source": []
  },
  {
   "cell_type": "code",
   "execution_count": null,
   "metadata": {},
   "outputs": [],
   "source": []
  },
  {
   "cell_type": "code",
   "execution_count": 9,
   "metadata": {},
   "outputs": [],
   "source": [
    "# 데이터를 읽어온다\n",
    "rating_predictive_model = pd.read_csv('AppleStore_rating_predictive_model.csv')"
   ]
  },
  {
   "cell_type": "code",
   "execution_count": 11,
   "metadata": {},
   "outputs": [
    {
     "name": "stdout",
     "output_type": "stream",
     "text": [
      "       Unnamed: 0    Rating\n",
      "count    23.00000  23.00000\n",
      "mean     11.00000   3.40000\n",
      "std       6.78233   0.47194\n",
      "min       0.00000   2.30000\n",
      "25%       5.50000   3.30000\n",
      "50%      11.00000   3.50000\n",
      "75%      16.50000   3.75000\n",
      "max      22.00000   4.00000\n"
     ]
    }
   ],
   "source": [
    "print(rating_predictive_model.describe())"
   ]
  },
  {
   "cell_type": "markdown",
   "metadata": {},
   "source": [
    "##### 카테고리별 평점 예측 모델 시각화"
   ]
  },
  {
   "cell_type": "code",
   "execution_count": 20,
   "metadata": {},
   "outputs": [],
   "source": [
    "import matplotlib.font_manager as fm\n",
    "import seaborn as sns"
   ]
  },
  {
   "cell_type": "code",
   "execution_count": 21,
   "metadata": {},
   "outputs": [],
   "source": [
    "# 폰트 설정\n",
    "font_name = 'c:/Windows/Fonts/NGULIM.TTF'\n",
    "font_pro = fm.FontProperties(fname=font_name)\n",
    "font_family = font_pro.get_name()\n",
    "\n",
    "plt.rcParams['font.family'] = font_family"
   ]
  },
  {
   "cell_type": "code",
   "execution_count": 23,
   "metadata": {},
   "outputs": [
    {
     "data": {
      "image/png": "[encoded data removed]",
      "text/plain": [
       "<Figure size 1080x360 with 1 Axes>"
      ]
     },
     "metadata": {
      "needs_background": "light"
     },
     "output_type": "display_data"
    }
   ],
   "source": [
    "plt.figure(figsize=(15,5))\n",
    "sns.barplot(x='Category',y='Rating',data=rating_predictive_model,ci=None)\n",
    "plt.title(\"애플 앱 스토어의 카테고리별 평점 예측\")\n",
    "plt.xticks(rotation=90)\n",
    "\n",
    "# 그래프 저장\n",
    "fig = plt.gcf()\n",
    "fig.savefig('apple_predictive_model.png', dpi=fig.dpi)"
   ]
  },
  {
   "cell_type": "code",
   "execution_count": null,
   "metadata": {},
   "outputs": [],
   "source": []
  },
  {
   "cell_type": "code",
   "execution_count": null,
   "metadata": {},
   "outputs": [],
   "source": []
  }
 ],
 "metadata": {
  "kernelspec": {
   "display_name": "Python 3",
   "language": "python",
   "name": "python3"
  },
  "language_info": {
   "codemirror_mode": {
    "name": "ipython",
    "version": 3
   },
   "file_extension": ".py",
   "mimetype": "text/x-python",
   "name": "python",
   "nbconvert_exporter": "python",
   "pygments_lexer": "ipython3",
   "version": "3.7.1"
  }
 },
 "nbformat": 4,
 "nbformat_minor": 2
}
