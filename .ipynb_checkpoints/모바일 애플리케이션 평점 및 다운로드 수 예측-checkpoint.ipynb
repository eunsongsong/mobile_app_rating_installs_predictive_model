{
 "cells": [
  {
   "cell_type": "markdown",
   "metadata": {},
   "source": [
    "# 모바일 애플리케이션의 '평점/다운로드 수' 예측 모델 수립하기"
   ]
  },
  {
   "cell_type": "code",
   "execution_count": 1,
   "metadata": {},
   "outputs": [],
   "source": [
    "# csv 에서 데이터를 읽어와 행렬 객체로 만들 수 있는 모듈\n",
    "# 다양한 데이터 전처리\n",
    "import pandas as pd\n",
    "# 시각화 라이브러리\n",
    "import matplotlib.pyplot as plt\n",
    "# 데이터를 학습용과 테스트용으로 나눌 수 있는 함수\n",
    "from sklearn.model_selection import train_test_split\n",
    "# 사용할 모델들\n",
    "from sklearn.linear_model import LogisticRegression\n",
    "from sklearn.neighbors import KNeighborsClassifier\n",
    "from sklearn.tree import DecisionTreeClassifier\n",
    "from sklearn.ensemble import RandomForestClassifier\n",
    "from sklearn.naive_bayes import GaussianNB\n",
    "from sklearn.svm import SVC\n",
    "from xgboost import XGBClassifier\n",
    "# KFold 교차 검증을 위한 모듈들\n",
    "from sklearn.model_selection import KFold\n",
    "from sklearn.model_selection import cross_val_score\n",
    "\n",
    "import numpy as np\n",
    "import collections"
   ]
  },
  {
   "cell_type": "markdown",
   "metadata": {},
   "source": [
    "### 데이터 읽어오기"
   ]
  },
  {
   "cell_type": "code",
   "execution_count": 2,
   "metadata": {},
   "outputs": [],
   "source": [
    "data = pd.read_csv('finaldata.csv')"
   ]
  },
  {
   "cell_type": "markdown",
   "metadata": {},
   "source": [
    "# 1. 평점"
   ]
  },
  {
   "cell_type": "markdown",
   "metadata": {},
   "source": [
    "##### 학습 데이터와 테스트 데이터를 7:3으로 나눈다"
   ]
  },
  {
   "cell_type": "code",
   "execution_count": 3,
   "metadata": {},
   "outputs": [],
   "source": [
    "train_rating, test_rating = train_test_split(data, test_size=0.3)\n",
    "train_rating.to_csv('train_rating.csv')\n",
    "test_rating.to_csv('test_rating.csv')"
   ]
  },
  {
   "cell_type": "markdown",
   "metadata": {},
   "source": [
    "##### 결과 데이터 추출"
   ]
  },
  {
   "cell_type": "code",
   "execution_count": 4,
   "metadata": {},
   "outputs": [],
   "source": [
    "target_rating = train_rating['Rating']\n",
    "target_rating = target_rating.astype(int)\n",
    "train_rating = train_rating.drop(['App','Rating'], axis=1)"
   ]
  },
  {
   "cell_type": "markdown",
   "metadata": {},
   "source": [
    "### 평점 예측 모델"
   ]
  },
  {
   "cell_type": "code",
   "execution_count": null,
   "metadata": {},
   "outputs": [
    {
     "name": "stderr",
     "output_type": "stream",
     "text": [
      "C:\\ProgramData\\Anaconda3\\lib\\site-packages\\sklearn\\linear_model\\logistic.py:433: FutureWarning: Default solver will be changed to 'lbfgs' in 0.22. Specify a solver to silence this warning.\n",
      "  FutureWarning)\n",
      "C:\\ProgramData\\Anaconda3\\lib\\site-packages\\sklearn\\linear_model\\logistic.py:460: FutureWarning: Default multi_class will be changed to 'auto' in 0.22. Specify the multi_class option to silence this warning.\n",
      "  \"this warning.\", FutureWarning)\n",
      "C:\\ProgramData\\Anaconda3\\lib\\site-packages\\sklearn\\linear_model\\logistic.py:433: FutureWarning: Default solver will be changed to 'lbfgs' in 0.22. Specify a solver to silence this warning.\n",
      "  FutureWarning)\n",
      "C:\\ProgramData\\Anaconda3\\lib\\site-packages\\sklearn\\linear_model\\logistic.py:460: FutureWarning: Default multi_class will be changed to 'auto' in 0.22. Specify the multi_class option to silence this warning.\n",
      "  \"this warning.\", FutureWarning)\n",
      "C:\\ProgramData\\Anaconda3\\lib\\site-packages\\sklearn\\linear_model\\logistic.py:433: FutureWarning: Default solver will be changed to 'lbfgs' in 0.22. Specify a solver to silence this warning.\n",
      "  FutureWarning)\n",
      "C:\\ProgramData\\Anaconda3\\lib\\site-packages\\sklearn\\linear_model\\logistic.py:460: FutureWarning: Default multi_class will be changed to 'auto' in 0.22. Specify the multi_class option to silence this warning.\n",
      "  \"this warning.\", FutureWarning)\n",
      "C:\\ProgramData\\Anaconda3\\lib\\site-packages\\sklearn\\linear_model\\logistic.py:433: FutureWarning: Default solver will be changed to 'lbfgs' in 0.22. Specify a solver to silence this warning.\n",
      "  FutureWarning)\n",
      "C:\\ProgramData\\Anaconda3\\lib\\site-packages\\sklearn\\linear_model\\logistic.py:460: FutureWarning: Default multi_class will be changed to 'auto' in 0.22. Specify the multi_class option to silence this warning.\n",
      "  \"this warning.\", FutureWarning)\n",
      "C:\\ProgramData\\Anaconda3\\lib\\site-packages\\sklearn\\linear_model\\logistic.py:433: FutureWarning: Default solver will be changed to 'lbfgs' in 0.22. Specify a solver to silence this warning.\n",
      "  FutureWarning)\n",
      "C:\\ProgramData\\Anaconda3\\lib\\site-packages\\sklearn\\linear_model\\logistic.py:460: FutureWarning: Default multi_class will be changed to 'auto' in 0.22. Specify the multi_class option to silence this warning.\n",
      "  \"this warning.\", FutureWarning)\n",
      "C:\\ProgramData\\Anaconda3\\lib\\site-packages\\sklearn\\linear_model\\logistic.py:433: FutureWarning: Default solver will be changed to 'lbfgs' in 0.22. Specify a solver to silence this warning.\n",
      "  FutureWarning)\n",
      "C:\\ProgramData\\Anaconda3\\lib\\site-packages\\sklearn\\linear_model\\logistic.py:460: FutureWarning: Default multi_class will be changed to 'auto' in 0.22. Specify the multi_class option to silence this warning.\n",
      "  \"this warning.\", FutureWarning)\n",
      "C:\\ProgramData\\Anaconda3\\lib\\site-packages\\sklearn\\linear_model\\logistic.py:433: FutureWarning: Default solver will be changed to 'lbfgs' in 0.22. Specify a solver to silence this warning.\n",
      "  FutureWarning)\n",
      "C:\\ProgramData\\Anaconda3\\lib\\site-packages\\sklearn\\linear_model\\logistic.py:460: FutureWarning: Default multi_class will be changed to 'auto' in 0.22. Specify the multi_class option to silence this warning.\n",
      "  \"this warning.\", FutureWarning)\n",
      "C:\\ProgramData\\Anaconda3\\lib\\site-packages\\sklearn\\linear_model\\logistic.py:433: FutureWarning: Default solver will be changed to 'lbfgs' in 0.22. Specify a solver to silence this warning.\n",
      "  FutureWarning)\n",
      "C:\\ProgramData\\Anaconda3\\lib\\site-packages\\sklearn\\linear_model\\logistic.py:460: FutureWarning: Default multi_class will be changed to 'auto' in 0.22. Specify the multi_class option to silence this warning.\n",
      "  \"this warning.\", FutureWarning)\n",
      "C:\\ProgramData\\Anaconda3\\lib\\site-packages\\sklearn\\linear_model\\logistic.py:433: FutureWarning: Default solver will be changed to 'lbfgs' in 0.22. Specify a solver to silence this warning.\n",
      "  FutureWarning)\n",
      "C:\\ProgramData\\Anaconda3\\lib\\site-packages\\sklearn\\linear_model\\logistic.py:460: FutureWarning: Default multi_class will be changed to 'auto' in 0.22. Specify the multi_class option to silence this warning.\n",
      "  \"this warning.\", FutureWarning)\n",
      "C:\\ProgramData\\Anaconda3\\lib\\site-packages\\sklearn\\linear_model\\logistic.py:433: FutureWarning: Default solver will be changed to 'lbfgs' in 0.22. Specify a solver to silence this warning.\n",
      "  FutureWarning)\n",
      "C:\\ProgramData\\Anaconda3\\lib\\site-packages\\sklearn\\linear_model\\logistic.py:460: FutureWarning: Default multi_class will be changed to 'auto' in 0.22. Specify the multi_class option to silence this warning.\n",
      "  \"this warning.\", FutureWarning)\n",
      "C:\\ProgramData\\Anaconda3\\lib\\site-packages\\sklearn\\svm\\base.py:196: FutureWarning: The default value of gamma will change from 'auto' to 'scale' in version 0.22 to account better for unscaled features. Set gamma explicitly to 'auto' or 'scale' to avoid this warning.\n",
      "  \"avoid this warning.\", FutureWarning)\n",
      "C:\\ProgramData\\Anaconda3\\lib\\site-packages\\sklearn\\svm\\base.py:196: FutureWarning: The default value of gamma will change from 'auto' to 'scale' in version 0.22 to account better for unscaled features. Set gamma explicitly to 'auto' or 'scale' to avoid this warning.\n",
      "  \"avoid this warning.\", FutureWarning)\n",
      "C:\\ProgramData\\Anaconda3\\lib\\site-packages\\sklearn\\svm\\base.py:196: FutureWarning: The default value of gamma will change from 'auto' to 'scale' in version 0.22 to account better for unscaled features. Set gamma explicitly to 'auto' or 'scale' to avoid this warning.\n",
      "  \"avoid this warning.\", FutureWarning)\n",
      "C:\\ProgramData\\Anaconda3\\lib\\site-packages\\sklearn\\svm\\base.py:196: FutureWarning: The default value of gamma will change from 'auto' to 'scale' in version 0.22 to account better for unscaled features. Set gamma explicitly to 'auto' or 'scale' to avoid this warning.\n",
      "  \"avoid this warning.\", FutureWarning)\n",
      "C:\\ProgramData\\Anaconda3\\lib\\site-packages\\sklearn\\svm\\base.py:196: FutureWarning: The default value of gamma will change from 'auto' to 'scale' in version 0.22 to account better for unscaled features. Set gamma explicitly to 'auto' or 'scale' to avoid this warning.\n",
      "  \"avoid this warning.\", FutureWarning)\n",
      "C:\\ProgramData\\Anaconda3\\lib\\site-packages\\sklearn\\svm\\base.py:196: FutureWarning: The default value of gamma will change from 'auto' to 'scale' in version 0.22 to account better for unscaled features. Set gamma explicitly to 'auto' or 'scale' to avoid this warning.\n",
      "  \"avoid this warning.\", FutureWarning)\n",
      "C:\\ProgramData\\Anaconda3\\lib\\site-packages\\sklearn\\svm\\base.py:196: FutureWarning: The default value of gamma will change from 'auto' to 'scale' in version 0.22 to account better for unscaled features. Set gamma explicitly to 'auto' or 'scale' to avoid this warning.\n",
      "  \"avoid this warning.\", FutureWarning)\n",
      "C:\\ProgramData\\Anaconda3\\lib\\site-packages\\sklearn\\svm\\base.py:196: FutureWarning: The default value of gamma will change from 'auto' to 'scale' in version 0.22 to account better for unscaled features. Set gamma explicitly to 'auto' or 'scale' to avoid this warning.\n",
      "  \"avoid this warning.\", FutureWarning)\n"
     ]
    }
   ],
   "source": [
    "# 모델 객체 생성\n",
    "model_rating_1 = LogisticRegression(C=1000.0, random_state=0)\n",
    "model_rating_2 = KNeighborsClassifier(n_neighbors = 15)\n",
    "model_rating_3 = DecisionTreeClassifier()\n",
    "model_rating_4 = RandomForestClassifier(n_estimators=15)\n",
    "model_rating_5 = GaussianNB()\n",
    "model_rating_6 = SVC(C=1, kernel='rbf', coef0=1)\n",
    "model_rating_7 = XGBClassifier()\n",
    "\n",
    "# Fold 생성\n",
    "folds = KFold(n_splits=10, shuffle=True, random_state=0)\n",
    "\n",
    "# 교차 검증한다 (rating)\n",
    "score_rating_1 = cross_val_score(model_rating_1, train_rating, target_rating, cv=folds, n_jobs=1, scoring='accuracy')\n",
    "score_rating_2 = cross_val_score(model_rating_2, train_rating, target_rating, cv=folds, n_jobs=1, scoring='accuracy')\n",
    "score_rating_3 = cross_val_score(model_rating_3, train_rating, target_rating, cv=folds, n_jobs=1, scoring='accuracy')\n",
    "score_rating_4 = cross_val_score(model_rating_4, train_rating, target_rating, cv=folds, n_jobs=1, scoring='accuracy')\n",
    "score_rating_5 = cross_val_score(model_rating_5, train_rating, target_rating, cv=folds, n_jobs=1, scoring='accuracy')\n",
    "score_rating_6 = cross_val_score(model_rating_6, train_rating, target_rating, cv=folds, n_jobs=1, scoring='accuracy')\n",
    "score_rating_7 = cross_val_score(model_rating_7, train_rating, target_rating, cv=folds, n_jobs=1, scoring='accuracy')\n",
    "\n",
    "# 각 모델별 정확도 평균을 구한다 (rating)\n",
    "avg_rating_1 = round(np.mean(score_rating_1) * 100, 2)\n",
    "avg_rating_2 = round(np.mean(score_rating_2) * 100, 2)\n",
    "avg_rating_3 = round(np.mean(score_rating_3) * 100, 2)\n",
    "avg_rating_4 = round(np.mean(score_rating_4) * 100, 2)\n",
    "avg_rating_5 = round(np.mean(score_rating_5) * 100, 2)\n",
    "avg_rating_6 = round(np.mean(score_rating_6) * 100, 2)\n",
    "avg_rating_7 = round(np.mean(score_rating_7) * 100, 2)\n",
    "\n",
    "print('평점 정확도 평균: ', f'{avg_rating_1},{avg_rating_2},{avg_rating_3},{avg_rating_4},{avg_rating_5},{avg_rating_6},{avg_rating_7}')"
   ]
  },
  {
   "cell_type": "code",
   "execution_count": null,
   "metadata": {},
   "outputs": [],
   "source": [
    "# 정확도 평균이 가장 높게 나온 modle7으로 학습\n",
    "model_rating_7.fit(train_rating, target_rating)\n",
    "print('학습완료')"
   ]
  },
  {
   "cell_type": "markdown",
   "metadata": {},
   "source": [
    "### 평점 예측 모델 사용하기"
   ]
  },
  {
   "cell_type": "code",
   "execution_count": null,
   "metadata": {},
   "outputs": [],
   "source": [
    "rating = test_rating['Rating']\n",
    "category_rating = test_rating['Category']\n",
    "test_rating = test_rating.drop(['App','Rating'],axis=1)\n",
    "                  \n",
    "# 예측 결과 계산\n",
    "y_pred_rating = model_rating_7.predict(test_rating)"
   ]
  },
  {
   "cell_type": "code",
   "execution_count": null,
   "metadata": {},
   "outputs": [],
   "source": [
    "# 평점 예측 결과를 DataFrame로 만듬\n",
    "rating_predictive_model = pd.DataFrame({'Category': category_rating, 'Rating':y_pred_rating})"
   ]
  },
  {
   "cell_type": "code",
   "execution_count": null,
   "metadata": {},
   "outputs": [],
   "source": [
    "# 카테고리로 group하여 예측한 평점의 평균을 반환\n",
    "rating_predictive_model = round(rating_predictive_model.groupby(['Category'], as_index=False).mean(),1)\n",
    "# 예측한 평점이 높은 순으로 정렬\n",
    "rating_predictive_model = rating_predictive_model.sort_values('Rating', ascending=False)"
   ]
  },
  {
   "cell_type": "code",
   "execution_count": null,
   "metadata": {},
   "outputs": [],
   "source": [
    "# 데이터 전처리시 만들었던 category_map\n",
    "category_map = {'ART_AND_DESIGN': 0, 'AUTO_AND_VEHICLES': 1, 'BEAUTY': 2, 'BOOKS_AND_REFERENCE': 3, 'BUSINESS': 4, 'COMICS': 5, 'COMMUNICATION': 6, 'DATING': 7, 'EDUCATION': 8, 'ENTERTAINMENT': 9, 'EVENTS': 10, 'FINANCE': 11, 'FOOD_AND_DRINK': 12, 'HEALTH_AND_FITNESS': 13, 'HOUSE_AND_HOME': 14, 'LIBRARIES_AND_DEMO': 15, 'LIFESTYLE': 16, 'GAME': 17, 'FAMILY': 18, 'MEDICAL': 19, 'SOCIAL': 20, 'SHOPPING': 21, 'PHOTOGRAPHY': 22, 'SPORTS': 23, 'TRAVEL_AND_LOCAL': 24, 'TOOLS': 25, 'PERSONALIZATION': 26, 'PRODUCTIVITY': 27, 'PARENTING': 28, 'WEATHER': 29, 'VIDEO_PLAYERS': 30, 'NEWS_AND_MAGAZINES': 31, 'MAPS_AND_NAVIGATION': 32}\n",
    "\n",
    "# category_map의 key,value 값을 바꿈\n",
    "inverse_category_map = {v: k for k, v in category_map.items()}\n",
    "\n",
    "# 현재 카테고리가 숫자로 되어 있으므로 다시 문자로 변경\n",
    "rating_predictive_model['Category'] = rating_predictive_model['Category'].map(inverse_category_map)\n",
    "rating_predictive_model"
   ]
  },
  {
   "cell_type": "code",
   "execution_count": null,
   "metadata": {},
   "outputs": [],
   "source": [
    "# 카테고리별 평점 예측 결과를 저장\n",
    "rating_predictive_model.to_csv('rating_predictive_model.csv')"
   ]
  },
  {
   "cell_type": "code",
   "execution_count": null,
   "metadata": {},
   "outputs": [],
   "source": []
  },
  {
   "cell_type": "markdown",
   "metadata": {},
   "source": [
    "# 2. 다운로드 수 "
   ]
  },
  {
   "cell_type": "markdown",
   "metadata": {},
   "source": [
    "##### 학습 데이터와 테스트 데이터를 7:3으로 나눈다"
   ]
  },
  {
   "cell_type": "code",
   "execution_count": null,
   "metadata": {},
   "outputs": [],
   "source": [
    "train_installs, test_installs = train_test_split(data, test_size=0.3)\n",
    "train_installs.to_csv('train_installs.csv')\n",
    "test_installs.to_csv('test_installs.csv')"
   ]
  },
  {
   "cell_type": "markdown",
   "metadata": {},
   "source": [
    "##### 결과 데이터 추출"
   ]
  },
  {
   "cell_type": "code",
   "execution_count": null,
   "metadata": {},
   "outputs": [],
   "source": [
    "target_installs = train_installs['Installs']\n",
    "target_installs = target_installs.astype(int)\n",
    "train_installs = train_installs.drop(['App','Installs', 'Size'], axis=1)"
   ]
  },
  {
   "cell_type": "markdown",
   "metadata": {},
   "source": [
    "### 다운로드 수 예측 모델"
   ]
  },
  {
   "cell_type": "code",
   "execution_count": null,
   "metadata": {
    "scrolled": true
   },
   "outputs": [],
   "source": [
    "# 모델 객체 생성\n",
    "model_installs_1 = LogisticRegression(C=1000.0, random_state=0)\n",
    "model_installs_2 = KNeighborsClassifier(n_neighbors = 15)\n",
    "model_installs_3 = DecisionTreeClassifier()\n",
    "model_installs_4 = RandomForestClassifier(n_estimators=15)\n",
    "model_installs_5 = GaussianNB()\n",
    "model_installs_6 = SVC(C=1, kernel='rbf', coef0=1)\n",
    "model_installs_7 = XGBClassifier()\n",
    "\n",
    "# Fold 생성\n",
    "folds = KFold(n_splits=10, shuffle=True, random_state=0)\n",
    "\n",
    "# 교차 검증한다 (installs)\n",
    "score_installs_1 = cross_val_score(model_installs_1, train_installs, target_installs, cv=folds, n_jobs=1, scoring='accuracy')\n",
    "score_installs_2 = cross_val_score(model_installs_2, train_installs, target_installs, cv=folds, n_jobs=1, scoring='accuracy')\n",
    "score_installs_3 = cross_val_score(model_installs_3, train_installs, target_installs, cv=folds, n_jobs=1, scoring='accuracy')\n",
    "score_installs_4 = cross_val_score(model_installs_4, train_installs, target_installs, cv=folds, n_jobs=1, scoring='accuracy')\n",
    "score_installs_5 = cross_val_score(model_installs_5, train_installs, target_installs, cv=folds, n_jobs=1, scoring='accuracy')\n",
    "score_installs_6 = cross_val_score(model_installs_6, train_installs, target_installs, cv=folds, n_jobs=1, scoring='accuracy')\n",
    "score_installs_7 = cross_val_score(model_installs_7, train_installs, target_installs, cv=folds, n_jobs=1, scoring='accuracy')\n",
    "\n",
    "# 각 모델별 정확도 평균을 구한다 (installs)\n",
    "avg_installs_1 = round(np.mean(score_installs_1) * 100, 2)\n",
    "avg_installs_2 = round(np.mean(score_installs_2) * 100, 2)\n",
    "avg_installs_3 = round(np.mean(score_installs_3) * 100, 2)\n",
    "avg_installs_4 = round(np.mean(score_installs_4) * 100, 2)\n",
    "avg_installs_5 = round(np.mean(score_installs_5) * 100, 2)\n",
    "avg_installs_6 = round(np.mean(score_installs_6) * 100, 2)\n",
    "avg_installs_7 = round(np.mean(score_installs_7) * 100, 2)\n",
    "\n",
    "print('다운로드 수 정확도 평균: ', f'{avg_installs_1},{avg_installs_2},{avg_installs_3},{avg_installs_4},{avg_installs_5},{avg_installs_6},{avg_installs_7}')"
   ]
  },
  {
   "cell_type": "code",
   "execution_count": null,
   "metadata": {},
   "outputs": [],
   "source": [
    "# 정확도 평균이 가장 높게 나온 modle7으로 학습\n",
    "model_installs_7.fit(train_installs, target_installs)\n",
    "print('학습완료')"
   ]
  },
  {
   "cell_type": "markdown",
   "metadata": {},
   "source": [
    "### 다운로드 수 예측 모델 사용하기"
   ]
  },
  {
   "cell_type": "code",
   "execution_count": null,
   "metadata": {},
   "outputs": [],
   "source": [
    "installs = test_installs['Installs']\n",
    "category_installs = test_installs['Category']\n",
    "test_installs = test_installs.drop(['App','Installs','Size'],axis=1)\n",
    "                  \n",
    "# 예측 결과 계산\n",
    "y_pred_installs = model_installs_7.predict(test_installs)"
   ]
  },
  {
   "cell_type": "code",
   "execution_count": null,
   "metadata": {},
   "outputs": [],
   "source": [
    "# 다운로드 수 예측 결과를 DataFrame로 만듬\n",
    "installs_predictive_model = pd.DataFrame({'Category': category_installs, 'Installs':y_pred_installs})"
   ]
  },
  {
   "cell_type": "code",
   "execution_count": null,
   "metadata": {},
   "outputs": [],
   "source": [
    "# 카테고리로 group하여 예측한 다운로드 수의 평균을 반환\n",
    "installs_predictive_model = round(installs_predictive_model.groupby(['Category'], as_index=False).mean())\n",
    "# 예측한 다운로드 수가 높은 순으로 정렬\n",
    "installs_predictive_model = installs_predictive_model.sort_values('Installs', ascending=False)"
   ]
  },
  {
   "cell_type": "code",
   "execution_count": null,
   "metadata": {},
   "outputs": [],
   "source": [
    "# 현재 카테고리가 숫자로 되어 있으므로 다시 문자로 변경\n",
    "installs_predictive_model['Category'] = installs_predictive_model['Category'].map(inverse_category_map)\n",
    "installs_predictive_model"
   ]
  },
  {
   "cell_type": "code",
   "execution_count": null,
   "metadata": {},
   "outputs": [],
   "source": [
    "# 카테고리별 다운로드 수 예측 결과를 저장\n",
    "installs_predictive_model.to_csv('installs_predictive_model.csv')"
   ]
  },
  {
   "cell_type": "code",
   "execution_count": null,
   "metadata": {},
   "outputs": [],
   "source": []
  },
  {
   "cell_type": "markdown",
   "metadata": {},
   "source": [
    "### 평점 예측 모델과 다운로드 수 예측 모델 합치기"
   ]
  },
  {
   "cell_type": "code",
   "execution_count": null,
   "metadata": {},
   "outputs": [],
   "source": [
    "# 평점 예측 모델과 다운로드 수 예측 모델 합치기\n",
    "predictive_model = pd.merge(rating_predictive_model,installs_predictive_model,on='Category')\n",
    "predictive_model"
   ]
  },
  {
   "cell_type": "code",
   "execution_count": null,
   "metadata": {},
   "outputs": [],
   "source": [
    "# 평점/다운로드 수 예측 모델 저장\n",
    "predictive_model.to_csv('predictive_model.csv')"
   ]
  },
  {
   "cell_type": "code",
   "execution_count": null,
   "metadata": {},
   "outputs": [],
   "source": []
  },
  {
   "cell_type": "code",
   "execution_count": null,
   "metadata": {},
   "outputs": [],
   "source": []
  },
  {
   "cell_type": "code",
   "execution_count": null,
   "metadata": {},
   "outputs": [],
   "source": []
  },
  {
   "cell_type": "code",
   "execution_count": null,
   "metadata": {},
   "outputs": [],
   "source": []
  }
 ],
 "metadata": {
  "kernelspec": {
   "display_name": "Python 3",
   "language": "python",
   "name": "python3"
  },
  "language_info": {
   "codemirror_mode": {
    "name": "ipython",
    "version": 3
   },
   "file_extension": ".py",
   "mimetype": "text/x-python",
   "name": "python",
   "nbconvert_exporter": "python",
   "pygments_lexer": "ipython3",
   "version": "3.7.1"
  }
 },
 "nbformat": 4,
 "nbformat_minor": 2
}
